{
 "cells": [
  {
   "cell_type": "markdown",
   "metadata": {},
   "source": [
    "# Propotional Integral Derivative Control - Mini Lesson\n",
    "The lesson is took from : https://ctms.engin.umich.edu/CTMS/index.php?example=Introduction&section=ControlPID"
   ]
  },
  {
   "cell_type": "code",
   "execution_count": null,
   "metadata": {},
   "outputs": [],
   "source": [
    "import control as ct\n",
    "import numpy as np\n",
    "import matplotlib.pyplot as plt"
   ]
  },
  {
   "cell_type": "markdown",
   "metadata": {},
   "source": [
    "## Create a Linear LTI (Linear Time Invariant) SISO (Single Input Single Output) System"
   ]
  },
  {
   "cell_type": "markdown",
   "metadata": {},
   "source": [
    "General Control Scheme"
   ]
  },
  {
   "cell_type": "markdown",
   "metadata": {},
   "source": [
    "![image.png](imgs/feedback_block.png)"
   ]
  },
  {
   "cell_type": "markdown",
   "metadata": {},
   "source": [
    "PID Controller will replace C(s) block here.\n",
    "\n",
    "PID controller equation as below:"
   ]
  },
  {
   "cell_type": "markdown",
   "metadata": {},
   "source": [
    "$$u(t) = K_p * e(t) + K_i * \\int_{a}^{b} e(t)dt + K_d * \\frac{d e(t)}{dt}"
   ]
  },
  {
   "cell_type": "markdown",
   "metadata": {},
   "source": [
    "Let's convert it to Laplace domain"
   ]
  },
  {
   "cell_type": "markdown",
   "metadata": {},
   "source": [
    "![image.png](imgs/Introduction_ControlPID_eq.png)"
   ]
  },
  {
   "cell_type": "markdown",
   "metadata": {},
   "source": [
    "Write the equation in control library"
   ]
  },
  {
   "cell_type": "code",
   "execution_count": null,
   "metadata": {},
   "outputs": [],
   "source": [
    "from env_control import create_pid\n",
    "create_pid(1,1,1)\n"
   ]
  },
  {
   "cell_type": "markdown",
   "metadata": {},
   "source": [
    "!***Warning***: It is impossible to realize in time-domain since the term derivative breaks causality. \n",
    "In this case an un-effective zero is added to system to very very far to origin"
   ]
  },
  {
   "cell_type": "markdown",
   "metadata": {},
   "source": [
    "## Meaning of P,I,D Terms"
   ]
  },
  {
   "cell_type": "markdown",
   "metadata": {},
   "source": [
    "- $K_p$: Increasing the proportional gain ($K_p$) has the effect of proportionally increasing the control signal for the same level of error. The fact that the controller will \"push\" harder for a given level of error tends to cause the closed-loop system to react more quickly, but also to overshoot more. Another effect of increasing $K_p$ is that it tends to reduce, but not eliminate, the steady-state error.\n",
    "- $K_d$ : adds the ability of the controller to \"anticipate\" error. With simple proportional control, if $K_p$ is fixed, the only way that the control will increase is if the error increases. With derivative control, the control signal can become large if the error begins sloping upward, even while the magnitude of the error is still relatively small. This anticipation tends to add damping to the system, thereby decreasing overshoot. The addition of a derivative term, however, has no effect on the steady-state error.\n",
    "- $K_i$ : tends to help reduce steady-state error. If there is a persistent, steady error, the integrator builds and builds, thereby increasing the control signal and driving the error down. A drawback of the integral term, however, is that it can make the system more sluggish (and oscillatory) since when the error signal changes sign, it may take a while for the integrator to \"unwind.\""
   ]
  },
  {
   "cell_type": "markdown",
   "metadata": {},
   "source": [
    "| CL RESPONSE | RISE TIME | OVERSHOOT | SETTLING TIME | S-S ERROR |\n",
    "| ---         | ---       | ---       | ---           | ---       |\n",
    "|*$$K_p$$*           | Decrease  | Increase  | Small Change  | Decrease  |\n",
    "|*$$K_i$$*           | Decrease  | Increase  | Increase  | Decrease  |\n",
    "|*$$K_d$$*         | Small Change  | Decrease  | Decrease  | No Change  |\n"
   ]
  },
  {
   "cell_type": "markdown",
   "metadata": {},
   "source": [
    "## Example Problem\n",
    "\n",
    "Suppose we have a simple mass-spring-damper system.\n",
    "\n",
    "![image.png](imgs/mass_spring_damper.png)\n",
    "\n",
    "The governing equation of this system is:\n",
    "\n",
    "![image.png](imgs/mass_spring_damper_eq.png)\n",
    "\n",
    "Taking the Laplace transform of the governing equation, we get\n",
    "\n",
    "![image.png](imgs/mass_spring_damper_eq_laplace.png)\n",
    "\n",
    "The transfer function between the input force $F(s)$ and the output displacement $X(s)$ then becomes:\n",
    "\n",
    "![image.png](imgs/msd_tf.png)\n",
    "\n"
   ]
  },
  {
   "cell_type": "markdown",
   "metadata": {},
   "source": [
    "Let system have parameters\n",
    "- m = 1 kg\n",
    "- b = 10 N s/m\n",
    "- k = 20 N/m\n",
    "- F = 1 N"
   ]
  },
  {
   "cell_type": "markdown",
   "metadata": {},
   "source": [
    "Design a PID controller such that:\n",
    "- Fast rise time\n",
    "- Min overshoot\n",
    "- Zero steady-state error"
   ]
  },
  {
   "cell_type": "code",
   "execution_count": null,
   "metadata": {},
   "outputs": [],
   "source": [
    "def create_msd_system(m,b,k):\n",
    "    \"\"\"Create Mass-Spring-Damper System \n",
    "\n",
    "    Parameters\n",
    "    ----------\n",
    "    m : float\n",
    "        mass\n",
    "    b : float\n",
    "        damping ratio\n",
    "    k : float\n",
    "        spring coefficient\n",
    "        \n",
    "    Returns\n",
    "    -------\n",
    "    _type_\n",
    "        Transfer Function of Mass-Spring-Damper System in s-domain\n",
    "    \"\"\"\n",
    "    return 1/(m*s**2 + b*s + k)"
   ]
  },
  {
   "cell_type": "code",
   "execution_count": null,
   "metadata": {},
   "outputs": [],
   "source": [
    "sys_msd = create_msd_system(1,10,20)\n",
    "sys_msd"
   ]
  },
  {
   "cell_type": "markdown",
   "metadata": {},
   "source": [
    "### Open-Loop Step Response"
   ]
  },
  {
   "cell_type": "code",
   "execution_count": null,
   "metadata": {},
   "outputs": [],
   "source": [
    "from env_control import ConfigSISO, LinearSISOEnv\n",
    "\n",
    "# Masss-Spring-Damper system\n",
    "config_siso = ConfigSISO(\n",
    "        action_space=[-1,1],\n",
    "        obs_space=[-10,10],\n",
    "        num=[1],\n",
    "        den=[1,10,20],\n",
    "        x_0=[0],\n",
    "        dt=0.1,\n",
    "        y_0=0,\n",
    "        t_0=0,\n",
    "        t_end=10,\n",
    "        y_ref=5)\n",
    "env = LinearSISOEnv(config_siso)\n",
    "env.reset()\n",
    "env.open_loop_step_response()\n",
    "env.render()"
   ]
  },
  {
   "cell_type": "markdown",
   "metadata": {},
   "source": [
    "## PID Control Results"
   ]
  },
  {
   "cell_type": "markdown",
   "metadata": {},
   "source": [
    "### P Only Control: Would lead to steady-state error"
   ]
  },
  {
   "cell_type": "code",
   "execution_count": null,
   "metadata": {},
   "outputs": [],
   "source": [
    "config_siso = ConfigSISO(\n",
    "        action_space=[-1,1],\n",
    "        obs_space=[-10,10],\n",
    "        num=[1],\n",
    "        den=[1,10,20],\n",
    "        x_0=[0],\n",
    "        dt=0.05,\n",
    "        y_0=0,\n",
    "        t_0=0,\n",
    "        t_end=3,\n",
    "        y_ref=1)\n",
    "\n",
    "env = LinearSISOEnv(config_siso)\n",
    "\n",
    "env.reset()\n",
    "\n",
    "c_p = create_pid(300,0,0)\n",
    "print(c_p)\n",
    "# G'(s) = G(s)*C(s)\n",
    "env.sys = ct.series(env.sys, c_p) \n",
    "env.closed_loop_step_response()\n",
    "env.render()\n",
    "print(f\"Final output: {env.y} // Steady-state error: {1-env.y}\")"
   ]
  },
  {
   "cell_type": "markdown",
   "metadata": {},
   "source": [
    "## PI Controller"
   ]
  },
  {
   "cell_type": "code",
   "execution_count": null,
   "metadata": {},
   "outputs": [],
   "source": [
    "config_siso = ConfigSISO(\n",
    "        action_space=[-1,1],\n",
    "        obs_space=[-10,10],\n",
    "        num=[1],\n",
    "        den=[1,10,20],\n",
    "        x_0=[0],\n",
    "        dt=0.01,\n",
    "        y_0=0,\n",
    "        t_0=0,\n",
    "        t_end=1,\n",
    "        y_ref=3)\n",
    "env = LinearSISOEnv(config_siso)\n",
    "c_p = create_pid(300,15,0)\n",
    "env.sys = ct.series(env.sys, c_p) \n",
    "env.closed_loop_step_response()\n",
    "env.render()\n",
    "print(f\"Final output: {env.y} // Steady-state error: {1-env.y}\")"
   ]
  },
  {
   "cell_type": "markdown",
   "metadata": {},
   "source": [
    "Still has problems and rise time is low"
   ]
  },
  {
   "cell_type": "markdown",
   "metadata": {},
   "source": [
    "### Add D-Term: PID"
   ]
  },
  {
   "cell_type": "code",
   "execution_count": null,
   "metadata": {},
   "outputs": [],
   "source": [
    "config_siso = ConfigSISO(\n",
    "        action_space=[-1,1],\n",
    "        obs_space=[-10,10],\n",
    "        num=[1],\n",
    "        den=[1,10,20],\n",
    "        x_0=[0],\n",
    "        dt=0.01,\n",
    "        y_0=0,\n",
    "        t_0=0,\n",
    "        t_end=1,\n",
    "        y_ref=3)\n",
    "env = LinearSISOEnv(config_siso)\n",
    "c_p = create_pid(300,15,200)\n",
    "env.sys = ct.series(env.sys, c_p) \n",
    "env.closed_loop_step_response()\n",
    "env.render()\n",
    "print(f\"Final output: {env.y} // Steady-state error: {1-env.y}\")"
   ]
  },
  {
   "cell_type": "markdown",
   "metadata": {},
   "source": [
    "### Resources\n",
    "\n",
    "- https://ctms.engin.umich.edu/CTMS/index.php?example=Introduction&section=ControlPID"
   ]
  }
 ],
 "metadata": {
  "kernelspec": {
   "display_name": "rlcontrol",
   "language": "python",
   "name": "python3"
  },
  "language_info": {
   "codemirror_mode": {
    "name": "ipython",
    "version": 3
   },
   "file_extension": ".py",
   "mimetype": "text/x-python",
   "name": "python",
   "nbconvert_exporter": "python",
   "pygments_lexer": "ipython3",
   "version": "3.8.16"
  },
  "orig_nbformat": 4
 },
 "nbformat": 4,
 "nbformat_minor": 2
}
