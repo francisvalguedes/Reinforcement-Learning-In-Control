{
 "cells": [
  {
   "cell_type": "markdown",
   "metadata": {},
   "source": [
    "# DDPG"
   ]
  },
  {
   "cell_type": "code",
   "execution_count": null,
   "metadata": {},
   "outputs": [],
   "source": [
    "algorithm_selected = 'DDPG'\n",
    "numerator, denum = create_tab_tf(tab_tf)\n",
    "assert numerator is not None\n",
    "assert denum is not None\n",
    "agent_config = create_tab_agent(tab_agent, DDPG.get_default_params())\n",
    "assert agent_config is not None\n",
    "env_config = create_tab_env(tab_env, numerator, denum)\n",
    "assert env_config is not None\n",
    "trainer = Trainer(\n",
    "    env=LinearSISOEnv,\n",
    "    agent_class=DDPG,\n",
    "    agent_config=agent_config,\n",
    "    env_config=env_config,\n",
    ")\n",
    "trainer_config = create_tab_trainer(tab_training, env_config, algorithm_selected)\n",
    "assert trainer_config is not None\n",
    "is_train_completed = False\n",
    "try:\n",
    "    is_train_completed = train_agent(trainer, trainer_config)\n",
    "except Exception as e:\n",
    "    print(e)\n",
    "agent_path = trainer.logger.log_weight_dir"
   ]
  }
 ],
 "metadata": {
  "kernelspec": {
   "display_name": "base",
   "language": "python",
   "name": "python3"
  },
  "language_info": {
   "name": "python",
   "version": "3.12.2"
  }
 },
 "nbformat": 4,
 "nbformat_minor": 2
}
